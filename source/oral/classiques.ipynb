{
 "cells": [
  {
   "attachments": {},
   "cell_type": "markdown",
   "metadata": {},
   "source": [
    "---\n",
    "## I. Tris\n",
    "La complexité optimale d'un algorithme de tri par comparaisons est $O(n\\log n)$. La démonstration repose sur la représentation d'un algorithme de tri par comparaisons sous la forme d'un arbre binaire. Chaque noeud de l'arbre représente une comparaison entre deux éléments du tableau. La hauteur de l'arbre est donc le nombre de comparaisons nécessaires pour trier le tableau dans le pire cas. Le nombre de feuilles de l'arbre est le nombre de permutations possibles du tableau. Comme il y a $n!$ permutations possibles, la hauteur de l'arbre est donc au moins $\\log_2(n!)$. En utilisant la formule de Stirling, on obtient que la hauteur de l'arbre est au moins $n\\log_2(n) - O(n)$, ce qui prouve que la complexité d'un algorithme de tri par comparaisons est au moins $O(n\\log n)$.\n",
    "\n",
    "Pour aller plus vite, on peut affirmer que l'on peut distinguer $2^h$ cas avec $h$ comparaisons, et on veut donc $2^h \\geq n!$. La suite est identique.\n",
    "\n",
    "### I. 1. Tri fusion\n",
    "\n",
    "Tri en complexité optimale le plus simple à implémenter.\n",
    "\n",
    "**Complexité :** $O(n\\log n)$ dans tous les cas"
   ]
  },
  {
   "cell_type": "code",
   "execution_count": null,
   "metadata": {
    "vscode": {
     "languageId": "ocaml"
    }
   },
   "outputs": [],
   "source": [
    "let rec merge l1 l2 = \n",
    "  match (l1, l2) with\n",
    "  | ([], _) -> l2\n",
    "  | (_, []) -> l1\n",
    "  | (h1::t1, h2::t2) -> if h1 < h2 then h1 :: merge t1 l2 else h2 :: merge l1 t2\n",
    ";;\n",
    "\n",
    "let rec split x y z =\n",
    "  match x with\n",
    "  | [] -> (y, z)\n",
    "  | e :: x' -> split x' (e::z) y\n",
    ";;\n",
    "\n",
    "let rec tri_fusion l = \n",
    "  match l with\n",
    "  | ([] | _::[]) -> l\n",
    "  | _ -> let l1, l2 = split l [] [] in merge (tri_fusion l1) (tri_fusion l2)\n",
    ";;"
   ]
  },
  {
   "attachments": {},
   "cell_type": "markdown",
   "metadata": {},
   "source": [
    "### I. 2. Tri rapide (implémentation mauvaise en pratique)\n",
    "\n",
    "**Complexité :** $O(n^2)$ dans le pire cas, $O(n\\log n)$ en moyenne"
   ]
  },
  {
   "cell_type": "code",
   "execution_count": null,
   "metadata": {
    "vscode": {
     "languageId": "ocaml"
    }
   },
   "outputs": [],
   "source": [
    "(* Mauvaise implémentation en pratique, à la fois en temps (à cause de @) et en mémoire (structure persistante) *)\n",
    "let rec quicksort l =\n",
    "  match l with\n",
    "  | ([] | _::[]) -> l\n",
    "  | a::l' -> let inf = List.filter (fun x -> x<a) l' \n",
    "    and sup = List.filter (fun x -> x>a) l'\n",
    "    in quicksort inf @ (a :: quicksort sup)"
   ]
  },
  {
   "attachments": {},
   "cell_type": "markdown",
   "metadata": {},
   "source": [
    "### I. 3. Tri à bulle\n",
    "Tri en place, stable, en $O(n^2)$. Tri de complexité quelconque le plus simple à implémenter."
   ]
  },
  {
   "cell_type": "code",
   "execution_count": null,
   "metadata": {
    "vscode": {
     "languageId": "ocaml"
    }
   },
   "outputs": [],
   "source": [
    "let swap t i j =\n",
    "  let mem = t.(i) in\n",
    "  t.(i) <- t.(j) ;\n",
    "  t.(j) <- mem\n",
    ";;\n",
    "\n",
    "let tri_bulle t =\n",
    "  let n = Array.length t in\n",
    "  for i = n-1 downto 1 do\n",
    "    for j = 0 to i-1 do\n",
    "      if t.(j) > t.(j+1) then swap t j (j+1)\n",
    "    done\n",
    "  done \n",
    ";;"
   ]
  },
  {
   "attachments": {},
   "cell_type": "markdown",
   "metadata": {},
   "source": [
    "---\n",
    "## II. Arbres binaires de recherche\n",
    "\n",
    "Un arbre binaire de recherche est un arbre binaire étiqueté par un ensemble totalement ordonné, tel que pour tout noeud, les étiquettes des noeuds du sous-arbre gauche sont inférieures à l'étiquette du noeud, et les étiquettes des noeuds du sous-arbre droit sont supérieures à l'étiquette du noeud.\n",
    "\n",
    "Cette structure sert notamment à implémenter des dictionnaires. \n",
    "\n",
    "\n",
    "### II. 1. Fonctions de base\n",
    "\n",
    "**Complexité :** $O(h)$, où $h$ est la hauteur de l'arbre. On a $h = O(\\log n)$ en moyenne, mais $h = O(n)$ dans le pire cas (peigne)."
   ]
  },
  {
   "cell_type": "code",
   "execution_count": null,
   "metadata": {
    "vscode": {
     "languageId": "ocaml"
    }
   },
   "outputs": [],
   "source": [
    "type 'a tree =\n",
    "  | V\n",
    "  | N of 'a tree * 'a * 'a tree\n",
    ";;\n",
    "\n",
    "let rec recherche arbre el =\n",
    "  match arbre with\n",
    "  | V ->  false\n",
    "  | N(g, a, d) -> if el = a then true \n",
    "                  else if el < a then recherche g el \n",
    "                  else recherche d el\n",
    ";;\n",
    "\n",
    "let rec ajout arbre el =\n",
    "  match arbre with\n",
    "  | V -> N(V, el, V)\n",
    "  | N(g, a, d) -> if el < a then N(ajout g el, a, d) else N(g, a, ajout d el)\n",
    ";;\n",
    "\n",
    "(* Première méthode de suppression : on cherche le plus grand élément y du SAG,\n",
    "on le met à la place de l'élément à supprimer et on supprimer récursivement y du SAG *)\n",
    "let rec maxi arbre = (* cherche récursivement le maximum *)\n",
    "  match arbre with\n",
    "  | V -> None\n",
    "  | N(g, a, V) -> Some a\n",
    "  | N(g, a, d) -> maxi d\n",
    ";;\n",
    "\n",
    "let rec suppression arbre el =\n",
    "  match arbre with\n",
    "  | V -> V\n",
    "  | N(V, a, d) when a = el -> d\n",
    "  | N(g, a, V) when a = el -> g\n",
    "  | N(g, a, d) -> if el < a then N(suppression g el, a, d)\n",
    "                  else if el > a then N(g, a, suppression d el)\n",
    "                  else match maxi g with (* on cherche le maximum *)\n",
    "                  | None -> failwith \"erreur\"\n",
    "                  | Some y -> N(suppression g y, y, d) (* on le met à la racine et on le supprime de g *)\n",
    ";;\n",
    "\n",
    "(* Seconde méthode de suppression : même idée mais en faisant un seul parcours *)\n",
    "let rec suppression_bis arbre el =\n",
    "  let rec extract_max arbre = (* retourne (le SAG sans son maximum, le maximum) *)\n",
    "    match arbre with\n",
    "    | V -> failwith \"erreur\"\n",
    "    | N(g, a, V) -> (g, a) (* on a trouvé le maximum et son SAG *)\n",
    "    | N(g, a, d) -> let (d', v) = extract_max d in (N(g, a, d'), v) (* on cherche la maximum à droite *)\n",
    "  in\n",
    "  match arbre with\n",
    "  | V -> V\n",
    "  | N(V, a, d) when a = el -> d\n",
    "  | N(g, a, V) when a = el -> g\n",
    "  | N(g, a, d) -> if el < a then N(suppression_bis g el, a, d)\n",
    "                  else if el > a then N(g, a, suppression_bis d el)\n",
    "                  else (* a = el *)\n",
    "                     let g', y = extract_max g in N(g', y, d) (* on remplace le SAG par le SAG sans son maximum *)\n",
    ";;"
   ]
  },
  {
   "cell_type": "code",
   "execution_count": null,
   "metadata": {
    "vscode": {
     "languageId": "ocaml"
    }
   },
   "outputs": [],
   "source": [
    "let rec partition e = function (* partitionne un arbre selon les valeurs plus petites et plus grandes que e *)\n",
    "  | V - > V, V\n",
    "  | N(g, x, d) when x < e -> (* on partitionne à droite *)\n",
    "    let a1, a2 = partition e d in (N(g, x, a1), a2)\n",
    "  | N(g, x, d) -> (* on partitionne à gauche *)\n",
    "    let a1, a2 = partition e g in (a1, N(a2, x, d))\n",
    ";;"
   ]
  },
  {
   "cell_type": "code",
   "execution_count": null,
   "metadata": {
    "vscode": {
     "languageId": "ocaml"
    }
   },
   "outputs": [],
   "source": [
    "(* Fusionne deux arbres binaires de recherche *)\n",
    "let rec fusion a1 a2 = \n",
    "  match (a1, a2) with\n",
    "  | _, V -> a1\n",
    "  | V, _  -> a2\n",
    "  | _, N(g2, x, d2) -> (* On partitionne a1 selon la racine de a2, et on fusionne les sous-arbres découpés *)\n",
    "    let g1, d1 = partition x a1 in N(fusion g1 g2, x, fusion d1 d2)\n",
    ";;"
   ]
  },
  {
   "attachments": {},
   "cell_type": "markdown",
   "metadata": {},
   "source": [
    "### II. 2. Déséquilibre\n",
    "\n",
    "Un ABR est dit équilibré si et seulement si $h = O(\\log|A|)$.\n",
    "\n",
    "Le déséquilibre d'un arbre $A = N(g, \\_ , d)$ vaut $d(A) := h(g) - h(d)$.\n",
    "\n",
    "Un arbre AVL est un arbre dans lequel le déséquilibre de chaque sous-arbre est égal à −1, 0 ou 1."
   ]
  },
  {
   "attachments": {},
   "cell_type": "markdown",
   "metadata": {},
   "source": [
    "### II. 3. Parcours\n",
    "\n",
    "Il existe trois grand types de parcours d'ABR : préfixe, infixe et suffixe, selon l'ordre dans lequel on visite les noeuds.\n",
    "\n",
    "Le parcours préfixe visite d'abord la racine, puis le sous-arbre gauche, puis le sous-arbre droit.\n",
    "\n",
    "Le parcours infixe visite d'abord le sous-arbre gauche, puis la racine, puis le sous-arbre droit. Il est particulièrement utile pour un ABR car il permet de parcourir les noeuds dans l'ordre croissant.\n",
    "\n",
    "Le parcours suffixe visite d'abord le sous-arbre gauche, puis le sous-arbre droit, puis la racine.\n",
    "\n",
    "**Complexité :** $O(|A|)$"
   ]
  },
  {
   "cell_type": "code",
   "execution_count": null,
   "metadata": {
    "vscode": {
     "languageId": "ocaml"
    }
   },
   "outputs": [],
   "source": [
    "let rec prefixe f = function\n",
    "| V -> ()\n",
    "| N (g, x, d) -> f x ; prefixe g ; prefixe d\n",
    ";;\n",
    "\n",
    "let rec infixe f = function\n",
    "| V -> ()\n",
    "| N (g, x, d) -> infixe g ; f x ; infixe d\n",
    ";;\n",
    "\n",
    "let rec postfixe f = function\n",
    "| V -> ()\n",
    "| N (g, x, d) -> postfixe g ; postfixe d : f x\n",
    ";;\n",
    "\n",
    "(* Application : vérification du caractère ABR d'un arbre *)\n",
    "let est_abr arbre =\n",
    "  let rec infixe acc = function\n",
    "  | V -> acc\n",
    "  | N (g, x, d) -> infixe (x :: (infixe acc g)) d in\n",
    "\n",
    "  let rec est_decroissante = function\n",
    "  | [] | [_] -> true\n",
    "  | a :: b :: l -> a >= b && est_decroissante b::l\n",
    "  in\n",
    "\n",
    "  est_decroissante (infixe [] arbre)\n",
    ";;"
   ]
  },
  {
   "attachments": {},
   "cell_type": "markdown",
   "metadata": {},
   "source": [
    "---\n",
    "## III. Table de hachage\n",
    "Structure de donnée impérative efficace pour implémenter un dictionnaire. Elle améliore ainsi la structure d'arbre binaire de recherche.\n",
    "\n",
    "Son implémentation telle que détaillée ici consiste en un `'a option array`. La fonction d'insertion fonctionne par **sondage linéaire** : elle examine les cases suivantes dans l'ordre en sélectionnant la première case vide. \n",
    "\n",
    "Une analyse de complexité amortie peut montrer que les opérations ont un coût constant en moyenne, pour un facteur de charge bien choisi.\n",
    "\n",
    "**Complexité :** $O(1)$ en moyenne"
   ]
  },
  {
   "cell_type": "code",
   "execution_count": null,
   "metadata": {
    "vscode": {
     "languageId": "ocaml"
    }
   },
   "outputs": [],
   "source": [
    "let est_present hashtbl hash el =\n",
    "  let n = Array.length hashtbl in\n",
    "  let i = ref (hash el) in\n",
    "  let found = ref false in\n",
    "  while !i < n && not !found do\n",
    "    match hashtbl.(!i) with\n",
    "    | None -> ()\n",
    "    | Some a -> if a = el then found := true\n",
    "  done ;\n",
    "  !found\n",
    ";;\n",
    "\n",
    "let inserer hashtbl hash el =\n",
    "  let i = ref (hash el) in\n",
    "  let placed = ref false in\n",
    "  while not !placed do\n",
    "    match hashtbl.(!i) with\n",
    "    | None -> hashtbl.(!i) <- Some el ; placed := true\n",
    "    | Some _ -> i := !i + 1 mod Array.length hashtbl\n",
    "  done\n",
    ";;\n",
    "\n",
    "let position hashtbl hash el =\n",
    "  let n = Array.length hashtbl in\n",
    "  let i = ref (hash el) in\n",
    "  let pos = ref None in\n",
    "  while !i < n && !pos <> None do\n",
    "    match hashtbl.(!i) with\n",
    "    | None -> ()\n",
    "    | Some a -> if a = el then pos := Some !i\n",
    "  done ;\n",
    "  !pos\n",
    ";;\n",
    "\n",
    "let swap t i j =\n",
    "  let mem = t.(i) in\n",
    "  t.(i) <- t.(j) ;\n",
    "  t.(j) <- mem\n",
    ";;\n",
    "\n",
    "let supprimer hashtbl hash el =\n",
    "  let n = Array.length hashtbl in\n",
    "  let pos = position hashtbl hash el in\n",
    "  match pos with\n",
    "  | None -> ()\n",
    "  | Some p -> \n",
    "    hashtbl.(p) <- None ;\n",
    "\n",
    "    let rec decaler i =\n",
    "      (* 'decaler' suppose que hashtbl.(i-1 mod n) = None et que 0 <= i < n *)\n",
    "      match hashtbl.(i) with\n",
    "      | None -> ()\n",
    "      | Some v ->\n",
    "        if hash v <> i then begin\n",
    "          swap hashtbl i (i - 1 mod n) ; \n",
    "          decaler (i + 1 mod n)\n",
    "        end\n",
    "    in\n",
    "    decaler (p + 1 mod n)\n",
    ";;"
   ]
  },
  {
   "attachments": {},
   "cell_type": "markdown",
   "metadata": {},
   "source": [
    "---\n",
    "## IV. File de priorité et tas\n",
    "\n",
    "Un tas est un arbre tournoi quasi-complet à gauche. Tournoi : chaque étiquette de chaque noeud est inférieure à celle de ses enfants.  \n",
    "\n",
    "**Complexité** : $O(\\log(|S|))$ dans le pire cas. "
   ]
  },
  {
   "cell_type": "code",
   "execution_count": null,
   "metadata": {
    "vscode": {
     "languageId": "ocaml"
    }
   },
   "outputs": [],
   "source": [
    "type 'a tas = {\n",
    "  mutable taille : int ;\n",
    "  contenu : (int * 'a) array\n",
    "}\n",
    "\n",
    "let creer_tas capacite elt =\n",
    "  { taille = 0 ; contenu = Array.make capacite (0, elt) };;\n",
    "\n",
    "let est_vide tas = tas.taille = 0;;\n",
    "\n",
    "let echanger t i j =\n",
    "  let cache = t.(i) in \n",
    "  t.(i) <- t.(j) ;\n",
    "  t.(j) <- cache\n",
    ";;\n",
    "\n",
    "(* Percolation vers le haut, pour corriger l'absence de caractère tournoi de l'arbre lors d'un ajout *)\n",
    "let rec remontee tab i =\n",
    "  if i > 0 then begin\n",
    "    let parent = (i + 1) / 2 - 1 in begin\n",
    "        if tab.(i) < tab.(parent) then begin\n",
    "          echanger tab i parent ;\n",
    "          remontee tab parent\n",
    "        end\n",
    "    end\n",
    "  end;;\n",
    "\n",
    "(* Percolation vers le bas, pour s'assurer que la nouvelle racine soit bien mise à sa place lors d'une extraction*)\n",
    "let rec descente tab courant taille = \n",
    "  (* Définition des futurs candidats *)\n",
    "  let candidat = ref courant in \n",
    "  let fils_gauche = (2 * courant) + 1 in \n",
    "  let fils_droit = fils_gauche + 1 in\n",
    "\n",
    "  (* Analyse du fils gauche *)\n",
    "  if fils_gauche < taille then begin\n",
    "    if tab.(fils_gauche) < tab.(!candidat) then\n",
    "      candidat := fils_gauche ;\n",
    "    \n",
    "    (* Analyse du fils droit*)\n",
    "    if fils_droit < taille then begin\n",
    "      if tab.(fils_droit) < tab.(!candidat) then\n",
    "        candidat := fils_droit\n",
    "    end;\n",
    "    \n",
    "    (* En cas de changement, on réalise l'échange et on continue récursivement *)\n",
    "    if !candidat <> courant then begin\n",
    "      echanger tab courant !candidat;\n",
    "      descente tab !candidat taille\n",
    "    end\n",
    "  end\n",
    ";;\n",
    "\n",
    "(* Ajout d'un élément dans le tas *)\n",
    "let ajout tas elt priorite =\n",
    "  if tas.taille >= Array.length tas.contenu then\n",
    "    failwith \"ajout : tas plein\" ;\n",
    "  tas.contenu.(tas.taille) <- (priorite, elt) ;\n",
    "  remontee tas.contenu tas.taille;\n",
    "  tas.taille <- tas.taille + 1\n",
    ";;\n",
    "\n",
    "(* Extraction de la racine du tas *)\n",
    "let extraction tas =\n",
    "  if tas.taille = 0 then\n",
    "    failwith \"extraction : tas vide\" ;\n",
    "  \n",
    "\n",
    "  let prio, racine = tas.contenu.(0) in \n",
    "  tas.taille <- tas.taille - 1 ;\n",
    "\n",
    "  (* On ajoute le dernier élément à la racine (pour conserver le caractère semi-complet) *)\n",
    "  tas.contenu.(0) <- tas.contenu.(tas.taille) ;\n",
    "  (* On percole vers le bas pour corriger le caractère tournoi *)\n",
    "  descente tas.contenu 0 tas.taille ;\n",
    "  (prio, racine)\n",
    ";;"
   ]
  },
  {
   "attachments": {},
   "cell_type": "markdown",
   "metadata": {},
   "source": [
    "### Tri par tas\n",
    "Toutes les percolations sont en temps logarithmique, donc le tri par tas est en $O(n \\log n)$ dans tous les cas. C'est un tri en place, mais non stable. C'est le seul tri en place connu en $O(n \\log n)$. (L'implémentation suivante trie par ordre décroissant, mais on peut modifier les fonctions pour obtenir l'ordre croissant.)"
   ]
  },
  {
   "cell_type": "code",
   "execution_count": null,
   "metadata": {
    "vscode": {
     "languageId": "ocaml"
    }
   },
   "outputs": [],
   "source": [
    "let tri_par_tas t =\n",
    "  let n = Array.length t in \n",
    "  (* On transforme le tableau en tas (tournoi) *)\n",
    "  for i = 1 to n-1 do \n",
    "    remontee t i \n",
    "  done ;\n",
    "\n",
    "  (* \"Extraction\" des éléments dans l'ordre *)\n",
    "  for i = n - 1 downto 1 do \n",
    "    echanger t 0 i ; (* On prend l'élément à la racine (le plus petit) et on le met à la fin *)\n",
    "    descente t 0 i (* On percole vers le bas pour conserver la structure tournoi sur [| 0 ; i-1 |] *)\n",
    "  done\n",
    ";;"
   ]
  },
  {
   "attachments": {},
   "cell_type": "markdown",
   "metadata": {},
   "source": [
    "---\n",
    "## V. File (HP)\n",
    "\n",
    "**Complexité :** $O(1)$"
   ]
  },
  {
   "cell_type": "code",
   "execution_count": null,
   "metadata": {
    "vscode": {
     "languageId": "ocaml"
    }
   },
   "outputs": [],
   "source": [
    "type 'a queue = {tab : 'a array ; mutable deb : int ; mutable fin : int ; mutable vide : bool};;\n",
    "\n",
    "let vide cap el_init = {tab = Array.make cap el_init ; deb = 0 ; fin = 0 ; vide = true};;\n",
    "\n",
    "let est_vide q = q.vide;;\n",
    "\n",
    "let insertion q el = \n",
    "  if q.fin mod Array.length q.tab = q.deb && (not q.vide) then failwith \"queue pleine\"\n",
    "  else begin\n",
    "    q.tab.(q.fin) <- el ;\n",
    "    q.fin <- q.fin + 1 mod Array.length q.tab ;\n",
    "    q.vide <- false\n",
    "  end\n",
    ";;\n",
    "\n",
    "let suppression q el =\n",
    "  if q.vide then failwith \"queue vide\"\n",
    "  else begin\n",
    "    q.deb <- q.deb + 1 mod Array.length q.tab ;\n",
    "    if q.fin = q.deb then q.vide <- true\n",
    "  end\n",
    ";;"
   ]
  },
  {
   "attachments": {},
   "cell_type": "markdown",
   "metadata": {},
   "source": [
    "---\n",
    "## VI. Parcours en profondeur de graphes et applications\n",
    "\n",
    "**Complexité :** $O(|S| + |A|)$\n",
    "\n",
    "### VI. 1. Parcours en profondeur"
   ]
  },
  {
   "cell_type": "code",
   "execution_count": null,
   "metadata": {
    "vscode": {
     "languageId": "ocaml"
    }
   },
   "outputs": [],
   "source": [
    "let parcours_en_profondeur g = (* g est un tableau de listes contenants les voisins *)\n",
    "  let n = Array.length g in \n",
    "  let etats = Array.make n 0 in \n",
    "\n",
    "  let rec traiter sommet = \n",
    "    if etats.(sommet) = 0 then begin\n",
    "      etats.(sommet) <- 1 ;\n",
    "      (* pré-traitement *)\n",
    "      List.iter traiter g.(sommet) ;\n",
    "      (* post-traitement *)\n",
    "      etats.(sommet) <- 2\n",
    "    end\n",
    "  in \n",
    "  for s = 0 to n - 1 do \n",
    "    traiter s\n",
    "  done\n",
    ";;"
   ]
  },
  {
   "attachments": {},
   "cell_type": "markdown",
   "metadata": {},
   "source": [
    "### VI. 2. Tri topologique"
   ]
  },
  {
   "cell_type": "code",
   "execution_count": null,
   "metadata": {
    "vscode": {
     "languageId": "ocaml"
    }
   },
   "outputs": [],
   "source": [
    "let tri_topologique g =\n",
    "  let n = Array.length g in \n",
    "  let etats = Array.make n 0 in \n",
    "  let tri = ref [] in\n",
    "\n",
    "  let rec traiter sommet = \n",
    "    if etats.(sommet) = 0 then begin \n",
    "      etats.(sommet) <- 1 ;\n",
    "      List.iter traiter g.(sommet) ;\n",
    "      tri := sommet :: !tri ;\n",
    "    end \n",
    "  in \n",
    "  for i = 0 to n-1 do \n",
    "    traiter i\n",
    "  done ;\n",
    "  !tri\n",
    ";;"
   ]
  },
  {
   "attachments": {},
   "cell_type": "markdown",
   "metadata": {},
   "source": [
    "### VI. 3. Recherche et construction d'un cycle"
   ]
  },
  {
   "cell_type": "code",
   "execution_count": null,
   "metadata": {
    "vscode": {
     "languageId": "ocaml"
    }
   },
   "outputs": [],
   "source": [
    "let detection_de_cycle g =\n",
    "  let n = Array.length g in \n",
    "  let etats = Array.make n 0 in \n",
    "  let cycle = ref false in\n",
    "\n",
    "  let rec traiter sommet = \n",
    "    if !cycle || etats.(sommet) = 1 then\n",
    "      cycle := true\n",
    "    else\n",
    "      if etats.(sommet) = 0 then begin\n",
    "        etats.(sommet) <- 1 ;\n",
    "\n",
    "        List.iter traiter g.(sommet) ;\n",
    "\n",
    "        etats.(sommet) <- 2\n",
    "      end\n",
    "  in \n",
    "  for s = 0 to n - 1 do \n",
    "    traiter s\n",
    "  done ;\n",
    "  !cycle\n",
    ";;"
   ]
  },
  {
   "cell_type": "code",
   "execution_count": null,
   "metadata": {
    "vscode": {
     "languageId": "ocaml"
    }
   },
   "outputs": [],
   "source": [
    "let calcul_cycle g =\n",
    "  let n = Array.length g in \n",
    "  let etats = Array.make n (0, -1) in (* contient des couples (etat, prédécesseur) *)\n",
    "  let fin_cycle = ref (-1) in (* contient un sommet de début=fin de cycle, s'il existe *)\n",
    "\n",
    "  let rec traiter sommet pred =\n",
    "    if !fin_cycle = -1 then begin (* si un cycle a été détecté, on arrête tout *)\n",
    "      if fst etats.(sommet) = 1 then fin_cycle := sommet (* on a détecté un cycle *)\n",
    "      else \n",
    "        if fst etats.(sommet) = 0 then begin\n",
    "          etats.(sommet) <- (1, pred) ;\n",
    "          List.iter (fun v -> traiter v sommet) g.(sommet) ;\n",
    "          etats.(sommet) <- (2, pred)\n",
    "        end\n",
    "    end\n",
    "  in\n",
    "\n",
    "  for s = 0 to n-1 do\n",
    "    traiter s (-1)\n",
    "  done ;\n",
    "\n",
    "  if !fin_cycle = -1 then None\n",
    "  else begin\n",
    "    (* reconstruction du chemin *)\n",
    "    let s = ref (snd etats.(!fin_cycle)) in\n",
    "    let cycle = ref [snd etats.(!fin_cycle)] in\n",
    "    while !s <> !fin_cycle do\n",
    "      s := snd etats.(!s) ;\n",
    "      cycle := !s :: !cycle\n",
    "    done;\n",
    "    Some !cycle\n",
    "  end\n",
    ";;"
   ]
  },
  {
   "attachments": {},
   "cell_type": "markdown",
   "metadata": {},
   "source": [
    "### VI. 4. Calcul des composantes connexes"
   ]
  },
  {
   "cell_type": "code",
   "execution_count": null,
   "metadata": {
    "vscode": {
     "languageId": "ocaml"
    }
   },
   "outputs": [],
   "source": [
    "let composantes_connexes g = (* graphe non orienté *)\n",
    "  let n = Array.length g in\n",
    "  let vus = Array.make n false in\n",
    "  let compo = ref [] in\n",
    "  \n",
    "  let rec visite sommet = \n",
    "    if not vus.(sommet) then begin\n",
    "      vus.(sommet) <- true ;\n",
    "      compo := sommet :: !compo ;\n",
    "      List.iter visite g.(sommet)\n",
    "    end\n",
    "  in\n",
    "\n",
    "  let composantes = ref [] in\n",
    "  for i = 0 to n-1 do\n",
    "    compo := [] ;\n",
    "    visite i ;\n",
    "    if !compo <> [] then composantes := !compo :: !composantes\n",
    "  done;\n",
    "  !composantes\n",
    ";;"
   ]
  },
  {
   "attachments": {},
   "cell_type": "markdown",
   "metadata": {},
   "source": [
    "### VI. 5. États accessibles d'un automate\n",
    "\n",
    "Voir le TP de l'épreuve d'algorithmique sur machine. Pas de difficulté particulière."
   ]
  },
  {
   "attachments": {},
   "cell_type": "markdown",
   "metadata": {},
   "source": [
    "### VI. 6. Calcul des composantes fortement connexes (Algorithme de Kosoraju, HP)\n",
    "Les composantes fortement connexes d'un graphe sont les classes d'équivalence de la relation de co-accessibilité. $p$ et $q$ sont dans la même composante connexe si et seulement si il existe un chemin de $p$ à $q$ et un chemin de $q$ à $p$.\n",
    "\n",
    "L'idée de l'algorithme est de faire deux parcours. Le premier parcours en profondeur est semblable à un tri topologique et permet d'obtenir une liste des sommets correctement ordonnée. On réalise ensuite une transposition du graphe. Enfin, on parcourt le graphe transposé dans l'ordre énoncé par le premier parcours, en ajoutant au fur et à mesure les sommets à leur composante connexe, et en commençant une nouvelle composante à chaque fin du parcours.\n",
    "\n",
    "**Complexité** : $O(|S| + |A|)$ (optimale)"
   ]
  },
  {
   "cell_type": "code",
   "execution_count": null,
   "metadata": {
    "vscode": {
     "languageId": "ocaml"
    }
   },
   "outputs": [],
   "source": [
    "(* On construit une liste des sommets à l'aide d'un parcours en profondeur, comme pour un tri topologique *)\n",
    "let parcours1 g =\n",
    "  let n = Array.length g in \n",
    "  let a_traiter = Array.make n true in \n",
    "  let l = ref [] in\n",
    "  \n",
    "  let rec traiter sommet = \n",
    "    if a_traiter.(sommet) then begin\n",
    "      a_traiter.(sommet) <- false ; \n",
    "      l := sommet :: !l ;\n",
    "      List.iter traiter g.(sommet);\n",
    "    end\n",
    "  in \n",
    "\n",
    "  for s = 0 to n-1 do \n",
    "    traiter s\n",
    "  done;\n",
    "  !l\n",
    ";;\n",
    "\n",
    "(* On calcule le graphe transposé *)\n",
    "let transpose g = \n",
    "  let n = Array.length g in \n",
    "  let gt = Array.make n [] in \n",
    "\n",
    "  for i = 0 to n-1 do \n",
    "    List.iter (fun j -> gt.(j) <- i :: gt.(j)) gt.(i)\n",
    "  done;\n",
    "  gt\n",
    ";;\n",
    "\n",
    "(* On effectue un parcours en profondeur en respectant l'ordre de la liste du premier parcours *)\n",
    "let parcours2 g ordre = \n",
    "  let n = Array.length g in \n",
    "  let a_traiter = Array.make n true in \n",
    "\n",
    "  let rec traiter sommet composante = \n",
    "    if a_traiter.(sommet) then begin \n",
    "      a_traiter.(sommet) <- false ;\n",
    "      List.iter (fun s -> traiter s composante) g.(sommet);\n",
    "      composante := sommet :: !composante\n",
    "    end\n",
    "  in \n",
    "  let composantes = ref [] in \n",
    "\n",
    "  let ajout_composante sommet = \n",
    "    if a_traiter.(sommet) then begin \n",
    "      let composante = ref [] in \n",
    "        traiter sommet composante ;\n",
    "        composantes := composante :: !composantes \n",
    "    end\n",
    "  in\n",
    "\n",
    "  List.iter ajout_composante ordre;\n",
    "  !composantes\n",
    ";;\n",
    "\n",
    "(* Mise en forme *)\n",
    "let kosaraju g = \n",
    "  let ordre = parcours1 g in \n",
    "  let gt = transpose g in \n",
    "  parcours2 gt ordre\n",
    ";;"
   ]
  },
  {
   "attachments": {},
   "cell_type": "markdown",
   "metadata": {},
   "source": [
    "---\n",
    "## VII. Plus court chemin dans un graphe\n",
    "\n",
    "### VII. 1. Algorithme de Dijkstra\n",
    "Permet d'obtenir le plus court chemin entre un sommet $s$ et tous les autres sommets d'un graphe pondéré positivement. \n",
    "\n",
    "**Complexité** : $O((|S| + |A|) \\times \\log|S|)$ pour une implémentation de la file de priorité avec un tas classique. En effet, le parcours est en $O(|S| + |A|)$, et l'insertion et la suppression dans un tas sont en $O(\\log|S|)$.\n",
    "\n",
    "(Pour un tas de Fibonacci, la complexité est en $O(|S| \\times \\log|S| + |A|)$.)"
   ]
  },
  {
   "cell_type": "code",
   "execution_count": null,
   "metadata": {
    "vscode": {
     "languageId": "ocaml"
    }
   },
   "outputs": [],
   "source": [
    "let dijkstra graphe source dest = \n",
    "  let n = Array.length graphe in\n",
    "\n",
    "  (* Initialisation de la file de priorité *)\n",
    "  let tas = creer_tas n (source, -1) in\n",
    "  ajout tas (source, -1) 0 ; (* le tas est constituté de couples (sommet, provenance) *)\n",
    "  let predecesseur = Array.make n (-1) in (* -1 si jamais vu, prédécesseur[i] sinon *)\n",
    "\n",
    "  let arriv = ref false in\n",
    "  while (not (est_vide tas)) && (not !arriv) do \n",
    "    let dist_e, (e, provenance) = extraction tas in\n",
    "    if e = dest then arriv := true\n",
    "    else \n",
    "      if predecesseur.(e) = -1 then begin\n",
    "        predecesseur.(e) <- provenance ;\n",
    "        List.iteri (fun vois dist -> ajout tas (vois, e) (dist + dist_e)) graphe.(e)\n",
    "      end\n",
    "  done;\n",
    "\n",
    "  if not !arriv then None\n",
    "  else begin\n",
    "    (* Récupération du chemin *)\n",
    "    let chemin = ref [] in\n",
    "    let sommet = ref dest in\n",
    "    while !sommet <> source do\n",
    "      chemin := !sommet :: !chemin ;\n",
    "      sommet := predecesseur.(!sommet)\n",
    "    done;\n",
    "    Some !chemin\n",
    "  end\n",
    ";;"
   ]
  },
  {
   "attachments": {},
   "cell_type": "markdown",
   "metadata": {},
   "source": [
    "### VII. 2. Algorithme de Floyd-Warshall\n",
    "Permet d'obtenir le plus court chemin entre tous les sommets d'un graphe orienté. Le graphe peut avoir des poids négatifs, mais ne doit pas avoir de cycle de poids négatif.\n",
    "\n",
    "**Complexité** : $O(|S|^3)$"
   ]
  },
  {
   "cell_type": "code",
   "execution_count": null,
   "metadata": {
    "vscode": {
     "languageId": "ocaml"
    }
   },
   "outputs": [],
   "source": [
    "let floyd_warshall graphe = \n",
    "  (* Initialisation *)\n",
    "  let n = Array.length graphe in\n",
    "  let w = Array.make_matrix n n Int.max_int in\n",
    "\n",
    "  for i = 0 to n-1 do\n",
    "    w.(i).(i) <- 0\n",
    "  done;\n",
    "\n",
    "  for i = 0 to n-1 do\n",
    "    for j = 0 to n-1 do\n",
    "      w.(i).(j) <- graphe.(i).(j)\n",
    "    done\n",
    "  done ;\n",
    "\n",
    "  (* Itérations *)\n",
    "  for k = 0 to n-1 do\n",
    "    for i = 0 to n-1 do\n",
    "      for j = 0 to n-1 do\n",
    "        w.(i).(j) <- min w.(i).(j) (w.(i).(k) + w.(k).(j))\n",
    "      done\n",
    "    done\n",
    "  done ;\n",
    "  w\n",
    ";;"
   ]
  },
  {
   "attachments": {},
   "cell_type": "markdown",
   "metadata": {},
   "source": [
    "---\n",
    "## VIII. Arbres couvrants minimaux\n",
    "\n",
    "On rappelle qu'un arbre est un graphe non-orienté connexe et acyclique. Ceci se caractérise de plusieurs autres façon rappelant l'algèbre linéaire. Les propositions suivantes sont équivalents :\n",
    "- G est un arbre\n",
    "- G est connexe et $Card A = Card S - 1$\n",
    "- G est acyclique et $Card A = Card S - 1$\n",
    "- G est connexe et ne le reste pas en supprimant une arête\n",
    "- G est acyclique et ne le reste pas en ajoutant un arête\n",
    "\n",
    "### VIII. 1. Algorithme de Prim (HP)\n",
    "Le fonctionnement est le suivant :\n",
    "- On choisit un sommet du graphe, et on considère $T_1$ contenant ce sommet et aucune arête.\n",
    "- Pour passer de $T_n$ à $T_{n+1}$, on établit la liste des arêtes reliant un sommet de $T_n$ à un sommet hors de $T_n$, et on sélectionne l'arête de poids minimal et le sommet associé.\n",
    "- Quand on a sélectionné tous les sommets, on a fini.\n",
    "\n",
    "Son implémentation repose sur une file de priorité (`Heap`) pouvant être implémentée par un tas.\n",
    "\n",
    "**Complexité :** $O(|S| + |A| \\log(|A|))$. Le graphe étant supposé connexe, $|S| = O(|A|)$ et pour tout graphe, $|A| \\leq |S|^2$, donc $\\log(|A|) = \\log(|S|)$, d'où une complexité en $O(|A| \\log(|S|))$."
   ]
  },
  {
   "cell_type": "code",
   "execution_count": null,
   "metadata": {
    "vscode": {
     "languageId": "ocaml"
    }
   },
   "outputs": [],
   "source": [
    "let prim g =\n",
    "  let n = Array.length g in\n",
    "  let vus = Array.make n false in\n",
    "  let arbre = ref [] in\n",
    "  let tas = Heap.empty () in\n",
    "\n",
    "  let ajout_sommet sommet = \n",
    "    (* marque le sommet comme vu et ajoute toutes les arêtes dans la file de priorité *)\n",
    "    vus.(sommet) <- true ;\n",
    "    List.iter \n",
    "      (fun (voisin, distance) -> \n",
    "        Heap.inser (distance, sommet, voisin) tas) g.(sommet)\n",
    "  in\n",
    "\n",
    "  let rec cherche_arete () = \n",
    "    (* extrait une arête menant à un sommet non visité *)\n",
    "    let _, debut, fin = Heap.extract tas in (* poids, début et fin de l'arête *)\n",
    "    if vus.(fin) then\n",
    "      (* on connaît fin, donc on continue *)\n",
    "      cherche_arete ()\n",
    "    else\n",
    "      (debut, fin)\n",
    "  in\n",
    "\n",
    "  ajoute_sommet 0 ;\n",
    "  for i = 1 to n-1 do\n",
    "    let debut, fin = cherche_arete () in\n",
    "    arbre := (debut, fin) :: !arbre ;\n",
    "    ajoute_sommet fin\n",
    "  done ;\n",
    "  !arbre\n",
    ";;"
   ]
  },
  {
   "attachments": {},
   "cell_type": "markdown",
   "metadata": {},
   "source": [
    "### VIII. 2. Algorithme de Kruskal\n",
    "Utilise à la fois une file de priorité et également une structure `Union-Find` :\n",
    "- On part de chaque sommet étant sa propre composante connexe, sans arêtes.\n",
    "- On énumère les arêtes par poids croissant, et dès qu'une arête relie deux composantes connexes distinctes, on sélectionne l'arête et on fusionne les composantes."
   ]
  },
  {
   "cell_type": "code",
   "execution_count": null,
   "metadata": {
    "vscode": {
     "languageId": "ocaml"
    }
   },
   "outputs": [],
   "source": [
    "let kruskal g =\n",
    "  let n = Array.length g in\n",
    "  let tas = Heap.empty () in\n",
    "  let uf = UF.init n in\n",
    "  let arbre = ref [] in\n",
    "\n",
    "  let rec cherche_arete () =\n",
    "    let _, debut, fin = Heap.extract tas in\n",
    "    if UF.union uf debut fin then (* si  les composantes sont distinctes *)\n",
    "      (debut, fin)\n",
    "    else\n",
    "      cherche_arete () (* sinon, on continue à chercher *)\n",
    "  in\n",
    "\n",
    "  for s = 0 to n-1 do\n",
    "    List.iter (fun (v, d) -> Heap.insert (d, s, v) tas) ;\n",
    "    g.(s)\n",
    "  done ;\n",
    "\n",
    "  (* On effectue n-1 fusions *)\n",
    "  for i = 1 to n-1 do\n",
    "    let debut, fin = cherche_arete () in\n",
    "    arbre := (debut, fin) :: !arbre \n",
    "  done;\n",
    "  !arbre\n",
    ";;"
   ]
  },
  {
   "attachments": {},
   "cell_type": "markdown",
   "metadata": {},
   "source": [
    "---\n",
    "## IX. Graphes bipartis et couplage maximal\n",
    "Un graphe non-orienté $G = (S, A)$ est dit **biparti** s'il est possible de partager $S$ en deux sous-ensembles distincts tels que chaque arc de $A$ relie un sommet d'un sous-ensemble à un sommet de l'autre sous-ensemble. \n",
    "\n",
    "De manière formelle, $\\exists U, V \\subset S$ tels que $U \\cap V = \\emptyset$, $U \\cup V = S$ et $A \\subseteq U \\times V$.\n",
    "\n",
    "### IX. 1. Bi-colorabilité\n",
    "Un graphe $G = (S, A)$ admet une $k$-coloration (pour $k \\geq 2$) s'il existe une fonction de coloration $c$ de $S$ dans $\\{1, \\dots, k\\}$ telle que pour tout arc $(u, v) \\in A$, $c(u) \\neq c(v)$. \n",
    "\n",
    "Un graphe est biparti si et seulement si il admet une 2-coloration, qui correspond à la fonction indicatrice de $U$ par exemple."
   ]
  },
  {
   "cell_type": "code",
   "execution_count": null,
   "metadata": {
    "vscode": {
     "languageId": "ocaml"
    }
   },
   "outputs": [],
   "source": [
    "let est_bicolorable graphe =\n",
    "  let n = Array.length graphe in\n",
    "  let couleurs = Array.make n (-1) in\n",
    "  let possible = ref true in\n",
    "\n",
    "  let rec visite sommet cl = \n",
    "  match couleurs.(sommet) with\n",
    "  | -1 -> couleurs.(sommet) <- cl ; List.iter (fun s -> s (cl + 1 mod 2)) graphe.(sommet)\n",
    "  | _ -> if cl <> couleurs.(sommet) then possible := false\n",
    "  in\n",
    "\n",
    "  for i = 0 to n-1 do\n",
    "    visite i 0\n",
    "  done;\n",
    "\n",
    "  !possible\n",
    ";;"
   ]
  },
  {
   "attachments": {},
   "cell_type": "markdown",
   "metadata": {},
   "source": [
    "### IX. 2. Couplage maximal\n",
    "\n",
    "Représentations d'un graphe biparti :"
   ]
  },
  {
   "cell_type": "code",
   "execution_count": null,
   "metadata": {
    "vscode": {
     "languageId": "ocaml"
    }
   },
   "outputs": [],
   "source": [
    "type biparti_1 = {\n",
    "  aretes : int list array ;\n",
    "  division : int\n",
    "};;\n",
    "\n",
    "type biparti_2 = {\n",
    "  u : int list array ;\n",
    "  v : int list array\n",
    "};;"
   ]
  },
  {
   "attachments": {},
   "cell_type": "markdown",
   "metadata": {},
   "source": [
    "Un **couplage** est un sous-ensemble $M \\subseteq A$ d'arêtes tel que deux arêtes distinctes n'ont pas de sommet en commun. De façon équivalente, $M$ est un couplage si et seulement si pour tout sommet $s \\in S$, il existe au plus une arête de $M$ incidente à $s$.\n",
    "\n",
    "Un sommet qui n'est pas extrémité d'une arête de $M$ est dit **libre**.\n",
    "\n",
    "Un chemin $C$ de $M$ est dit **alternant** si il alterne entre des arêtes de $M$ et des arêtes de $A \\setminus M$.\n",
    "\n",
    "Un chemin **augmentant** est un chemin alternant dont les extrémités sont libres.\n",
    "\n",
    "**Lemme :** Si $M$ est un couplage et $C$ un chemin augmentant, alors $M' := M \\Delta C$ est un couplage avec $|M'| = |M| + 1$.\n",
    "\n",
    "**Théorème de Berge :** Si $M_1$ et $M_2$ sont deux couplages tels que $|M_1| < |M_2|$, alors il existe un chemin augmentant pour $M_1$. Conséquence : un couplage $M$ est maximal si et seulement si il n'existe pas de chemin augmentant pour $M$."
   ]
  },
  {
   "cell_type": "code",
   "execution_count": null,
   "metadata": {
    "vscode": {
     "languageId": "ocaml"
    }
   },
   "outputs": [],
   "source": [
    "(* Renvoie le premier élément d'une liste qui vérifie p, et None s'il n'y en a pas *)\n",
    "let rec existe p = function\n",
    "| [] -> None\n",
    "| a :: l -> if p a then Some a else existe p l\n",
    ";;\n",
    "\n",
    "let couplage_maximal g =\n",
    "  let nu = Array.length g.u\n",
    "  and nv = Array.length g.v in\n",
    "\n",
    "  let vus = Array.make nu false in\n",
    "  let couplage = Array.make nv None in (* les sommets sont initialement libres *)\n",
    "\n",
    "  let rec visite_sommet sommet =\n",
    "    if vus.(sommet) then false\n",
    "    else begin\n",
    "      vus.(sommet) <- true ;\n",
    "      match existe bon_voisin g.u.(sommet) with\n",
    "      | None -> false\n",
    "      | Some voisin -> couplage.(voisin) <- Some sommet ; true\n",
    "    end\n",
    "  and\n",
    "  bon_voisin voisin =\n",
    "    match couplage.(voisin) with\n",
    "    | None -> true\n",
    "    | Some sommet -> visite_sommet sommet\n",
    "  in\n",
    "  for s = 0 to nu-1 do\n",
    "    (* On cherche un chemin augmentant partant du sommet s*)\n",
    "    for i = 0 to nu - 1 do\n",
    "      vus.(i) <- false\n",
    "    done ;\n",
    "    ignore (visite_sommet s)\n",
    "  done;\n",
    "  couplage\n",
    ";;"
   ]
  },
  {
   "attachments": {},
   "cell_type": "markdown",
   "metadata": {},
   "source": [
    "---\n",
    "## X. Union Find (HP)\n",
    "\n",
    "### X.1. Implémentation naïve"
   ]
  },
  {
   "cell_type": "code",
   "execution_count": null,
   "metadata": {
    "vscode": {
     "languageId": "ocaml"
    }
   },
   "outputs": [],
   "source": []
  },
  {
   "attachments": {},
   "cell_type": "markdown",
   "metadata": {},
   "source": [
    "### X. 2. Implémentation améliorée"
   ]
  },
  {
   "cell_type": "code",
   "execution_count": null,
   "metadata": {
    "vscode": {
     "languageId": "ocaml"
    }
   },
   "outputs": [],
   "source": []
  },
  {
   "attachments": {},
   "cell_type": "markdown",
   "metadata": {},
   "source": [
    "---\n",
    "## XI. Backtracking\n",
    "\n",
    "### XI. 1. Somme d'un sous-ensemble"
   ]
  },
  {
   "cell_type": "code",
   "execution_count": null,
   "metadata": {
    "vscode": {
     "languageId": "ocaml"
    }
   },
   "outputs": [],
   "source": []
  },
  {
   "attachments": {},
   "cell_type": "markdown",
   "metadata": {},
   "source": [
    "### XI. 2. Problème des reines"
   ]
  },
  {
   "cell_type": "code",
   "execution_count": null,
   "metadata": {
    "vscode": {
     "languageId": "ocaml"
    }
   },
   "outputs": [],
   "source": []
  },
  {
   "attachments": {},
   "cell_type": "markdown",
   "metadata": {},
   "source": [
    "---\n",
    "## XII. Théorème de Kleene\n",
    "\n",
    "### XII. 1. Rationnel $\\implies$ reconnaissable\n",
    "Voyons deux méthodes pour transformer une `regex` en automate.\n",
    "\n",
    "### XII. 1. a. Automate de Thompson\n",
    "On définit de façon inductive des \"briques\" reconnaissant les opérations de base d'une expression régulière, en utilisant abondement des $\\varepsilon$-transitions (automate asynchrone). On peut alors synchroniser et déterminiser l'automate obtenu.\n",
    "\n",
    "### XII. 1. b. Automate de Glushkov\n",
    "- **Langage local :** Un langage $L$ est dit local s'il existe des ensembles $P, S \\subseteq \\Sigma$ et $F \\subseteq \\Sigma^2$ tels que tout mot est un mot de $L$ si et seulement si il commence par une lettre de $P$, finit par une lettre de $S$, et contient uniquement des facteurs de taille 2 dans $F$. On note alors $L = (V, P, F, S)$ où $V \\subseteq \\{\\varepsilon\\}$\n",
    "\n",
    "L'intersection, l'union\\*, la concaténation\\*, et l'étoile de langages locaux sont locaux.\n",
    "\n",
    "(\\* : à condition que les alphabets soient disjoints)\n",
    "\n",
    "- **Expression rationnelle linéaire :** Expression rationnelle dont chaque lettre apparaît au plus une fois.\n",
    "\n",
    "Toute expression rationnelle linéaire dénote un langage local (immédiat par définition).\n",
    "\n",
    "- **Automate local :** automate déterministe dont toutes les transitions étiquetées par la même lettre arrivent dans le même état. Il est dit standard si aucune transition n'arrive sur l'état initial.\n",
    "\n",
    "Tout langage local est reconnu par un automate local standard.\n",
    "\n",
    "On en déduit que tout langage décrit par une expression régulière linéaire est reconnaissble. On définit pour cela l'automate d'état initial $\\varepsilon$, d'états finals $F_A = F \\cup V$, et de transitions : $\\forall a \\in P, \\delta(\\varepsilon, a) = a$ et $\\forall ab \\in F, \\delta(a, b) = b$.\n",
    "\n",
    "On généralise à toutes les expressions linéaires en numérotant les lettres identiques.\n",
    "\n",
    "### XII. 1. c. Algorithme de Berry-Sethi\n",
    "- Linéariser l'expression régulière\n",
    "- Faire un tableau avec les $V, P, F, S$\n",
    "- Construire l'automate local la reconnaissant en utilisant la règle de construction ci-dessus\n",
    "- Effacer la numérotation des lettres\n",
    "\n",
    "\n",
    "## XII. 2. Reconnaissable $\\implies$ rationnel\n",
    "Voyons deux méthodes pour transformer un automate déterministe en `regex`\n",
    "\n",
    "## XII. 2. a. Lemme d'Arden\n",
    "\n",
    "## XII. 2. b. Méthode de Brzozowksi et McCluskey\n",
    "On élimine des états en remplaçant les transitions par des `regex`. Méthode à suivre :\n",
    "- On ajoute un état initial supplémentaire avec des $\\varepsilon$-transitions vers chaque état de $I$\n",
    "- On ajoute un état final supplémentaire avec des $\\varepsilon$-transitions depuis chaque état de $F$\n",
    "- Tant qu'il reste un état de $Q$ non éliminé, on fusionne les transitions et on réduit un état."
   ]
  }
 ],
 "metadata": {
  "language_info": {
   "name": "python"
  },
  "orig_nbformat": 4
 },
 "nbformat": 4,
 "nbformat_minor": 2
}
