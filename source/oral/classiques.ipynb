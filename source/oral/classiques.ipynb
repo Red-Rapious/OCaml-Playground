{
 "cells": [
  {
   "attachments": {},
   "cell_type": "markdown",
   "metadata": {},
   "source": [
    "## I. Tris\n",
    "### I. 1. Tri fusion\n",
    "\n",
    "Tri en complexité optimale le plus simple à implémenter."
   ]
  },
  {
   "cell_type": "code",
   "execution_count": null,
   "metadata": {
    "vscode": {
     "languageId": "ocaml"
    }
   },
   "outputs": [],
   "source": [
    "let rec merge l1 l2 = \n",
    "  match (l1, l2) with\n",
    "  | ([], _) -> l2\n",
    "  | (_, []) -> l1\n",
    "  | (h1::t1, h2::t2) -> if h1 < h2 then h1 :: merge t1 l2 else h2 :: merge l1 t2\n",
    ";;\n",
    "\n",
    "let rec split x y z =\n",
    "  match x with\n",
    "  | [] -> (y, z)\n",
    "  | e :: x' -> split x' (e::z) y\n",
    ";;\n",
    "\n",
    "let rec tri_fusion l = \n",
    "  match l with\n",
    "  | ([] | _::[]) -> l\n",
    "  | _ -> let l1, l2 = split l [] [] in merge (tri_fusion l1) (tri_fusion l2)\n",
    ";;"
   ]
  },
  {
   "attachments": {},
   "cell_type": "markdown",
   "metadata": {},
   "source": [
    "### I. 2. Tri rapide (implémentation mauvaise en pratique)"
   ]
  },
  {
   "cell_type": "code",
   "execution_count": null,
   "metadata": {
    "vscode": {
     "languageId": "ocaml"
    }
   },
   "outputs": [],
   "source": [
    "(* Mauvaise implémentation en pratique, à la fois en temps (à cause de @) et en mémoire (structure persistante) *)\n",
    "let rec quicksort l =\n",
    "  match l with\n",
    "  | ([] | _::[]) -> l\n",
    "  | a::l' -> let inf = List.filter (fun x -> x<a) l' \n",
    "    and sup = List.filter (fun x -> x>a) l'\n",
    "    in quicksort inf @ (a :: quicksort sup)"
   ]
  },
  {
   "attachments": {},
   "cell_type": "markdown",
   "metadata": {},
   "source": [
    "### I. 3. Tri à bulle\n",
    "Sur place, stable, en $O(n^2)$. Tri de complexité quelconque le plus simple à implémenter."
   ]
  },
  {
   "cell_type": "code",
   "execution_count": null,
   "metadata": {
    "vscode": {
     "languageId": "ocaml"
    }
   },
   "outputs": [],
   "source": [
    "let swap t i j =\n",
    "  let mem = t.(i) in\n",
    "  t.(i) <- t.(j) ;\n",
    "  t.(j) <- mem\n",
    ";;\n",
    "\n",
    "let tri_a_bulle tab = \n",
    "  let n = Array.length tab in\n",
    "  for i = 0 to n-1 do\n",
    "    for j = i+1 to n-1 do\n",
    "      if t.(i) > t.(j) then swap t i j \n",
    "    done;\n",
    "  done\n",
    ";;"
   ]
  },
  {
   "attachments": {},
   "cell_type": "markdown",
   "metadata": {},
   "source": [
    "## II. Arbres binaires de recherche\n",
    "\n",
    "Un arbre binaire de recherche est un arbre binaire étiqueté par un ensemble totalement ordonné, tel que pour tout noeud, les étiquettes des noeuds du sous-arbre gauche sont inférieures à l'étiquette du noeud, et les étiquettes des noeuds du sous-arbre droit sont supérieures à l'étiquette du noeud.\n",
    "\n",
    "Cette structure sert notamment à implémenter des dictionnaires. Les opérations de base ont une complexité en $O(h)$, où $h$ est la hauteur de l'arbre."
   ]
  },
  {
   "cell_type": "code",
   "execution_count": null,
   "metadata": {
    "vscode": {
     "languageId": "ocaml"
    }
   },
   "outputs": [],
   "source": [
    "type tree =\n",
    "  | F\n",
    "  | N of tree * int * tree\n",
    ";;\n",
    "\n",
    "let rec recherche arbre el =\n",
    "  match arbre with\n",
    "  | F ->  false\n",
    "  | N(g, a, d) -> if el = a then true \n",
    "                  else if el < a then recherche g el \n",
    "                  else recherche d el\n",
    ";;\n",
    "\n",
    "let rec ajout arbre el =\n",
    "  match arbre with\n",
    "  | F -> N(F, el, F)\n",
    "  | N(g, a, d) -> if el < a then N(ajout g el, a, d) else N(g, a, ajout d el)\n",
    ";;\n",
    "\n",
    "let rec maxi arbre =\n",
    "  match arbre with\n",
    "  | F -> None\n",
    "  | N(g, a, F) -> Some a\n",
    "  | N(g, a, d) -> maxi d\n",
    ";;\n",
    "\n",
    "let rec suppression arbre el =\n",
    "  match arbre with\n",
    "  | F -> F\n",
    "  | N(F, a, d) when a = el -> d\n",
    "  | N(g, a, F) when a = el -> g\n",
    "  | N(g, a, d) -> if el < a then N(suppression g el, a, d)\n",
    "                  else if el > a then N(g, a, suppression d el)\n",
    "                  else match maxi g with\n",
    "                  | None -> failwith \"erreur\"\n",
    "                  | Some y -> N(suppression g y, y, d)\n",
    ";;\n",
    "\n",
    "let rec suppression_bis arbre el =\n",
    "  let rec extract_max arbre = \n",
    "    match arbre with\n",
    "    | F -> failwith \"erreur\"\n",
    "    | N(g, a, F) -> (g, a)\n",
    "    | N(g, a, d) -> let (d', v) = extract_max d in (N(g, a, d'), v)\n",
    "  in\n",
    "  match arbre with\n",
    "  | F -> F\n",
    "  | N(F, a, d) when a = el -> d\n",
    "  | N(g, a, F) when a = el -> g\n",
    "  | N(g, a, d) -> if el < a then N(suppression_bis g el, a, d)\n",
    "                  else if el > a then N(g, a, suppression_bis d el)\n",
    "                  else (* a = el *)\n",
    "                     let d', y = extract_max d in N(g, y, d')\n",
    ";;"
   ]
  },
  {
   "attachments": {},
   "cell_type": "markdown",
   "metadata": {},
   "source": [
    "## III. Table de hachage\n",
    "Structure de donnée impérative efficace pour implémenter un dictionnaire. Son implémentation telle que détaillée ici consiste en un `'a option array`. La fonction d'insertion fonctionne par **sondage linéaire** : elle examine les cases suivantes dans l'ordre en sélectionnant la première case vide. \n",
    "\n",
    "Une analyse de complexité amortie peut montrer que les opérations ont un coût constant en moyenne, pour un facteur de charge bien choisi."
   ]
  },
  {
   "cell_type": "code",
   "execution_count": null,
   "metadata": {
    "vscode": {
     "languageId": "ocaml"
    }
   },
   "outputs": [],
   "source": [
    "let est_present hashtbl hash el =\n",
    "  let n = Array.length hashtbl in\n",
    "  let i = ref (hash el) in\n",
    "  let found = ref false in\n",
    "  while !i < n && not !found do\n",
    "    match hashtbl.(!i) with\n",
    "    | None -> ()\n",
    "    | Some a -> if a = el then found := true\n",
    "  done ;\n",
    "  !found\n",
    ";;\n",
    "\n",
    "let inserer hashtbl hash el =\n",
    "  let i = ref (hash el) in\n",
    "  let placed = ref false in\n",
    "  while not !placed do\n",
    "    match hashtbl.(!i) with\n",
    "    | None -> hashtbl.(!i) <- Some el ; placed := true\n",
    "    | Some _ -> i := !i + 1 mod Array.length hashtbl\n",
    "  done\n",
    ";;\n",
    "\n",
    "let position hashtbl hash el =\n",
    "  let n = Array.length hashtbl in\n",
    "  let i = ref (hash el) in\n",
    "  let pos = ref None in\n",
    "  while !i < n && !pos <> None do\n",
    "    match hashtbl.(!i) with\n",
    "    | None -> ()\n",
    "    | Some a -> if a = el then pos := Some !i\n",
    "  done ;\n",
    "  !pos\n",
    ";;\n",
    "\n",
    "let swap t i j =\n",
    "  let mem = t.(i) in\n",
    "  t.(i) <- t.(j) ;\n",
    "  t.(j) <- mem\n",
    ";;\n",
    "\n",
    "let supprimer hashtbl hash el =\n",
    "  let n = Array.length hashtbl in\n",
    "  let pos = position hashtbl hash el in\n",
    "  match pos with\n",
    "  | None -> ()\n",
    "  | Some p -> \n",
    "    hashtbl.(p) <- None ;\n",
    "\n",
    "    let rec decaler i =\n",
    "      (* 'decaler' suppose que hashtbl.(i-1 mod n) = None et que 0 <= i < n *)\n",
    "      match hashtbl.(i) with\n",
    "      | None -> ()\n",
    "      | Some v ->\n",
    "        if hash v <> i then begin\n",
    "          swap hashtbl i (i - 1 mod n) ; \n",
    "          decaler (i + 1 mod n)\n",
    "        end\n",
    "    in\n",
    "    decaler (p + 1 mod n)\n",
    ";;"
   ]
  },
  {
   "attachments": {},
   "cell_type": "markdown",
   "metadata": {},
   "source": [
    "## IV. File de priorité et tas\n",
    "\n",
    "Un tas est un arbre tournoi quasi-complet à gauche. Tournoi : chaque étiquette de chaque noeud est inférieure à celle de ses enfants.  Complexité logarithmique dans le pire cas. "
   ]
  },
  {
   "cell_type": "code",
   "execution_count": null,
   "metadata": {
    "vscode": {
     "languageId": "ocaml"
    }
   },
   "outputs": [],
   "source": [
    "type 'a tas = {mutable taille : int ; contenu : (int * 'a) array } \n",
    "\n",
    "let tas_vide capacite el = { taille = 0 ; contenu = Array.make capacite el };;\n",
    "\n",
    "let est_vide tas = tas.taille = 0;\n",
    "\n",
    "let swap t i j =\n",
    "  let mem = t.(i) in\n",
    "  t.(i) <- t.(j) ;\n",
    "  t.(j) <- mem\n",
    ";;\n",
    "\n",
    "let rec remontee tab pos = \n",
    "  if pos > 0 then \n",
    "    let pere = (pos + 1)/2 - 1 in \n",
    "    if tab.(pere) > tab.(pos) then begin\n",
    "      swap tab pere pos;\n",
    "      remontee tab pere\n",
    "    end\n",
    ";;\n",
    "\n",
    "let rec "
   ]
  },
  {
   "attachments": {},
   "cell_type": "markdown",
   "metadata": {},
   "source": [
    "## V. File"
   ]
  },
  {
   "cell_type": "code",
   "execution_count": null,
   "metadata": {
    "vscode": {
     "languageId": "ocaml"
    }
   },
   "outputs": [],
   "source": [
    "type 'a queue = {tab : 'a array ; mutable deb : int ; mutable fin : int ; mutable vide : bool};;\n",
    "\n",
    "let vide cap el_init = {tab = Array.make cap el_init ; deb = 0 ; fin = 0 ; vide = true};;\n",
    "\n",
    "let est_vide q = q.vide;;\n",
    "\n",
    "let insertion q el = \n",
    "  if q.fin mod Array.length q.tab = q.deb && (not q.vide) then failwith \"queue pleine\"\n",
    "  else begin\n",
    "    q.tab.(q.fin) <- el ;\n",
    "    q.fin <- q.fin + 1 mod Array.length q.tab ;\n",
    "    q.vide <- false\n",
    "  end\n",
    ";;\n",
    "\n",
    "let suppression q el =\n",
    "  if q.vide then failwith \"queue vide\"\n",
    "  else begin\n",
    "    q.deb <- q.deb + 1 mod Array.length q.tab ;\n",
    "    if q.fin = q.deb then q.vide <- true\n",
    "  end\n",
    ";;"
   ]
  },
  {
   "attachments": {},
   "cell_type": "markdown",
   "metadata": {},
   "source": [
    "## VI. Parcours de graphes et applications"
   ]
  },
  {
   "attachments": {},
   "cell_type": "markdown",
   "metadata": {},
   "source": [
    "## VII. Plus court chemin dans un graphe\n",
    "### VII. 1. Algorithme de Floyd-Warshall"
   ]
  },
  {
   "attachments": {},
   "cell_type": "markdown",
   "metadata": {},
   "source": [
    "### VII. 2. Algorithme de Dijkstra"
   ]
  }
 ],
 "metadata": {
  "language_info": {
   "name": "python"
  },
  "orig_nbformat": 4
 },
 "nbformat": 4,
 "nbformat_minor": 2
}
